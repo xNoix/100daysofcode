{
  "nbformat": 4,
  "nbformat_minor": 0,
  "metadata": {
    "colab": {
      "provenance": [],
      "include_colab_link": true
    },
    "kernelspec": {
      "name": "python3",
      "display_name": "Python 3"
    },
    "language_info": {
      "name": "python"
    }
  },
  "cells": [
    {
      "cell_type": "markdown",
      "metadata": {
        "id": "view-in-github",
        "colab_type": "text"
      },
      "source": [
        "<a href=\"https://colab.research.google.com/github/xNoix/100daysofcode/blob/main/Tarea2.ipynb\" target=\"_parent\"><img src=\"https://colab.research.google.com/assets/colab-badge.svg\" alt=\"Open In Colab\"/></a>"
      ]
    },
    {
      "cell_type": "markdown",
      "source": [
        "# Tarea 2\n",
        "\n",
        "## Integrantes\n",
        "\n",
        "1. Nombre1 Apellido1\n",
        "2. Nombre2 Apellido2\n",
        "3. Nombre3 Apellido3"
      ],
      "metadata": {
        "id": "ptktIQpcEka9"
      }
    },
    {
      "cell_type": "markdown",
      "source": [
        "## Base de datos Chinook"
      ],
      "metadata": {
        "id": "oyzPYH4K1w3F"
      }
    },
    {
      "cell_type": "code",
      "source": [
        "!pip install SQLAlchemy==1.4.46"
      ],
      "metadata": {
        "id": "hO6T2AzerWGj",
        "colab": {
          "base_uri": "https://localhost:8080/"
        },
        "outputId": "a5aa267a-61c6-4d79-f94e-eb8fc94d7968"
      },
      "execution_count": 2,
      "outputs": [
        {
          "output_type": "stream",
          "name": "stdout",
          "text": [
            "Looking in indexes: https://pypi.org/simple, https://us-python.pkg.dev/colab-wheels/public/simple/\n",
            "Collecting SQLAlchemy==1.4.46\n",
            "  Downloading SQLAlchemy-1.4.46-cp310-cp310-manylinux_2_5_x86_64.manylinux1_x86_64.manylinux_2_17_x86_64.manylinux2014_x86_64.whl (1.6 MB)\n",
            "\u001b[2K     \u001b[90m━━━━━━━━━━━━━━━━━━━━━━━━━━━━━━━━━━━━━━━━\u001b[0m \u001b[32m1.6/1.6 MB\u001b[0m \u001b[31m14.2 MB/s\u001b[0m eta \u001b[36m0:00:00\u001b[0m\n",
            "\u001b[?25hRequirement already satisfied: greenlet!=0.4.17 in /usr/local/lib/python3.10/dist-packages (from SQLAlchemy==1.4.46) (2.0.2)\n",
            "Installing collected packages: SQLAlchemy\n",
            "  Attempting uninstall: SQLAlchemy\n",
            "    Found existing installation: SQLAlchemy 2.0.10\n",
            "    Uninstalling SQLAlchemy-2.0.10:\n",
            "      Successfully uninstalled SQLAlchemy-2.0.10\n",
            "Successfully installed SQLAlchemy-1.4.46\n"
          ]
        }
      ]
    },
    {
      "cell_type": "code",
      "execution_count": 3,
      "metadata": {
        "id": "4BcjS8dwEWS-",
        "colab": {
          "base_uri": "https://localhost:8080/"
        },
        "outputId": "be37fafb-6a95-4fc2-9a91-50564acdb223"
      },
      "outputs": [
        {
          "output_type": "stream",
          "name": "stdout",
          "text": [
            "Cloning into 'chinook-database'...\n",
            "remote: Enumerating objects: 1960, done.\u001b[K\n",
            "remote: Counting objects: 100% (75/75), done.\u001b[K\n",
            "remote: Compressing objects: 100% (54/54), done.\u001b[K\n",
            "remote: Total 1960 (delta 33), reused 50 (delta 21), pack-reused 1885\u001b[K\n",
            "Receiving objects: 100% (1960/1960), 19.57 MiB | 13.92 MiB/s, done.\n",
            "Resolving deltas: 100% (1277/1277), done.\n"
          ]
        }
      ],
      "source": [
        "#download the Chinook database\n",
        "!git clone https://github.com/lerocha/chinook-database.git"
      ]
    },
    {
      "cell_type": "code",
      "source": [
        "# load the SQL magic extension\n",
        "# https://github.com/catherinedevlin/ipython-sql\n",
        "# this extension allows us to connect to DBs and issue SQL command\n",
        "%load_ext sql\n",
        "# now we can use the magic extension to connect to our SQLite DB\n",
        "# use %sql to write an inline SQL command\n",
        "# use %%sql to write SQL commands in a cell\n",
        "%sql sqlite:////content/chinook-database/ChinookDatabase/DataSources/Chinook_Sqlite.sqlite"
      ],
      "metadata": {
        "id": "i3VBK1_EEzlS"
      },
      "execution_count": 4,
      "outputs": []
    },
    {
      "cell_type": "markdown",
      "source": [
        "### Obteniendo información de tablas"
      ],
      "metadata": {
        "id": "6D-BwyLnFIW8"
      }
    },
    {
      "cell_type": "code",
      "source": [
        "%%sql \n",
        "PRAGMA table_info([Artist]);"
      ],
      "metadata": {
        "colab": {
          "base_uri": "https://localhost:8080/",
          "height": 118
        },
        "id": "cUK2Md-oJnv0",
        "outputId": "7197d13e-dd73-4f0a-c8bc-f0a104f0e6a4"
      },
      "execution_count": 5,
      "outputs": [
        {
          "output_type": "stream",
          "name": "stdout",
          "text": [
            " * sqlite:////content/chinook-database/ChinookDatabase/DataSources/Chinook_Sqlite.sqlite\n",
            "Done.\n"
          ]
        },
        {
          "output_type": "execute_result",
          "data": {
            "text/plain": [
              "[(0, 'ArtistId', 'INTEGER', 1, None, 1),\n",
              " (1, 'Name', 'NVARCHAR(120)', 0, None, 0)]"
            ],
            "text/html": [
              "<table>\n",
              "    <tr>\n",
              "        <th>cid</th>\n",
              "        <th>name</th>\n",
              "        <th>type</th>\n",
              "        <th>notnull</th>\n",
              "        <th>dflt_value</th>\n",
              "        <th>pk</th>\n",
              "    </tr>\n",
              "    <tr>\n",
              "        <td>0</td>\n",
              "        <td>ArtistId</td>\n",
              "        <td>INTEGER</td>\n",
              "        <td>1</td>\n",
              "        <td>None</td>\n",
              "        <td>1</td>\n",
              "    </tr>\n",
              "    <tr>\n",
              "        <td>1</td>\n",
              "        <td>Name</td>\n",
              "        <td>NVARCHAR(120)</td>\n",
              "        <td>0</td>\n",
              "        <td>None</td>\n",
              "        <td>0</td>\n",
              "    </tr>\n",
              "</table>"
            ]
          },
          "metadata": {},
          "execution_count": 5
        }
      ]
    },
    {
      "cell_type": "code",
      "source": [
        "%%sql\n",
        "PRAGMA table_info([Employee]);"
      ],
      "metadata": {
        "colab": {
          "base_uri": "https://localhost:8080/",
          "height": 395
        },
        "id": "x6DaPJvvKW4F",
        "outputId": "df2baa3d-981a-4041-fd45-2fbce0cfdb79"
      },
      "execution_count": 6,
      "outputs": [
        {
          "output_type": "stream",
          "name": "stdout",
          "text": [
            " * sqlite:////content/chinook-database/ChinookDatabase/DataSources/Chinook_Sqlite.sqlite\n",
            "Done.\n"
          ]
        },
        {
          "output_type": "execute_result",
          "data": {
            "text/plain": [
              "[(0, 'EmployeeId', 'INTEGER', 1, None, 1),\n",
              " (1, 'LastName', 'NVARCHAR(20)', 1, None, 0),\n",
              " (2, 'FirstName', 'NVARCHAR(20)', 1, None, 0),\n",
              " (3, 'Title', 'NVARCHAR(30)', 0, None, 0),\n",
              " (4, 'ReportsTo', 'INTEGER', 0, None, 0),\n",
              " (5, 'BirthDate', 'DATETIME', 0, None, 0),\n",
              " (6, 'HireDate', 'DATETIME', 0, None, 0),\n",
              " (7, 'Address', 'NVARCHAR(70)', 0, None, 0),\n",
              " (8, 'City', 'NVARCHAR(40)', 0, None, 0),\n",
              " (9, 'State', 'NVARCHAR(40)', 0, None, 0),\n",
              " (10, 'Country', 'NVARCHAR(40)', 0, None, 0),\n",
              " (11, 'PostalCode', 'NVARCHAR(10)', 0, None, 0),\n",
              " (12, 'Phone', 'NVARCHAR(24)', 0, None, 0),\n",
              " (13, 'Fax', 'NVARCHAR(24)', 0, None, 0),\n",
              " (14, 'Email', 'NVARCHAR(60)', 0, None, 0)]"
            ],
            "text/html": [
              "<table>\n",
              "    <tr>\n",
              "        <th>cid</th>\n",
              "        <th>name</th>\n",
              "        <th>type</th>\n",
              "        <th>notnull</th>\n",
              "        <th>dflt_value</th>\n",
              "        <th>pk</th>\n",
              "    </tr>\n",
              "    <tr>\n",
              "        <td>0</td>\n",
              "        <td>EmployeeId</td>\n",
              "        <td>INTEGER</td>\n",
              "        <td>1</td>\n",
              "        <td>None</td>\n",
              "        <td>1</td>\n",
              "    </tr>\n",
              "    <tr>\n",
              "        <td>1</td>\n",
              "        <td>LastName</td>\n",
              "        <td>NVARCHAR(20)</td>\n",
              "        <td>1</td>\n",
              "        <td>None</td>\n",
              "        <td>0</td>\n",
              "    </tr>\n",
              "    <tr>\n",
              "        <td>2</td>\n",
              "        <td>FirstName</td>\n",
              "        <td>NVARCHAR(20)</td>\n",
              "        <td>1</td>\n",
              "        <td>None</td>\n",
              "        <td>0</td>\n",
              "    </tr>\n",
              "    <tr>\n",
              "        <td>3</td>\n",
              "        <td>Title</td>\n",
              "        <td>NVARCHAR(30)</td>\n",
              "        <td>0</td>\n",
              "        <td>None</td>\n",
              "        <td>0</td>\n",
              "    </tr>\n",
              "    <tr>\n",
              "        <td>4</td>\n",
              "        <td>ReportsTo</td>\n",
              "        <td>INTEGER</td>\n",
              "        <td>0</td>\n",
              "        <td>None</td>\n",
              "        <td>0</td>\n",
              "    </tr>\n",
              "    <tr>\n",
              "        <td>5</td>\n",
              "        <td>BirthDate</td>\n",
              "        <td>DATETIME</td>\n",
              "        <td>0</td>\n",
              "        <td>None</td>\n",
              "        <td>0</td>\n",
              "    </tr>\n",
              "    <tr>\n",
              "        <td>6</td>\n",
              "        <td>HireDate</td>\n",
              "        <td>DATETIME</td>\n",
              "        <td>0</td>\n",
              "        <td>None</td>\n",
              "        <td>0</td>\n",
              "    </tr>\n",
              "    <tr>\n",
              "        <td>7</td>\n",
              "        <td>Address</td>\n",
              "        <td>NVARCHAR(70)</td>\n",
              "        <td>0</td>\n",
              "        <td>None</td>\n",
              "        <td>0</td>\n",
              "    </tr>\n",
              "    <tr>\n",
              "        <td>8</td>\n",
              "        <td>City</td>\n",
              "        <td>NVARCHAR(40)</td>\n",
              "        <td>0</td>\n",
              "        <td>None</td>\n",
              "        <td>0</td>\n",
              "    </tr>\n",
              "    <tr>\n",
              "        <td>9</td>\n",
              "        <td>State</td>\n",
              "        <td>NVARCHAR(40)</td>\n",
              "        <td>0</td>\n",
              "        <td>None</td>\n",
              "        <td>0</td>\n",
              "    </tr>\n",
              "    <tr>\n",
              "        <td>10</td>\n",
              "        <td>Country</td>\n",
              "        <td>NVARCHAR(40)</td>\n",
              "        <td>0</td>\n",
              "        <td>None</td>\n",
              "        <td>0</td>\n",
              "    </tr>\n",
              "    <tr>\n",
              "        <td>11</td>\n",
              "        <td>PostalCode</td>\n",
              "        <td>NVARCHAR(10)</td>\n",
              "        <td>0</td>\n",
              "        <td>None</td>\n",
              "        <td>0</td>\n",
              "    </tr>\n",
              "    <tr>\n",
              "        <td>12</td>\n",
              "        <td>Phone</td>\n",
              "        <td>NVARCHAR(24)</td>\n",
              "        <td>0</td>\n",
              "        <td>None</td>\n",
              "        <td>0</td>\n",
              "    </tr>\n",
              "    <tr>\n",
              "        <td>13</td>\n",
              "        <td>Fax</td>\n",
              "        <td>NVARCHAR(24)</td>\n",
              "        <td>0</td>\n",
              "        <td>None</td>\n",
              "        <td>0</td>\n",
              "    </tr>\n",
              "    <tr>\n",
              "        <td>14</td>\n",
              "        <td>Email</td>\n",
              "        <td>NVARCHAR(60)</td>\n",
              "        <td>0</td>\n",
              "        <td>None</td>\n",
              "        <td>0</td>\n",
              "    </tr>\n",
              "</table>"
            ]
          },
          "metadata": {},
          "execution_count": 6
        }
      ]
    },
    {
      "cell_type": "markdown",
      "source": [
        "\n",
        "\n",
        "### Modelo relacional de Chinook [schemaspy](https://schemaspy.org/)\n",
        "\n",
        "<img src=\"https://schemaspy.org/sample/diagrams/summary/relationships.real.large.png\" alt=\"ER Diagram\" width=\"836\" height=\"605\" />\n",
        "\n",
        "\n"
      ],
      "metadata": {
        "id": "wA1MJwgRL7UL"
      }
    },
    {
      "cell_type": "markdown",
      "source": [
        "\n",
        "\n",
        "# Soluciones consultas SQL\n",
        "\n",
        "Para cada consulta seleccionada, indique el numero de la consulta, el enunciado y el codigo SQL que resuelve la consulta. A modo de ejemplo utilice el siguiente formato."
      ],
      "metadata": {
        "id": "EVxhvaEtNAMt"
      }
    },
    {
      "cell_type": "markdown",
      "source": [
        "X) Escriba una consulta que muestre solo los Clientes de Brasil."
      ],
      "metadata": {
        "id": "DRXDt7gB6M0F"
      }
    },
    {
      "cell_type": "code",
      "source": [
        "%%sql \n",
        "select * from Customer WHERE Country = \"Brazil\";"
      ],
      "metadata": {
        "colab": {
          "base_uri": "https://localhost:8080/",
          "height": 355
        },
        "id": "bw_Bp7J3NFlR",
        "outputId": "b9323acc-957e-43ee-ae01-af9c24fee376"
      },
      "execution_count": 7,
      "outputs": [
        {
          "output_type": "stream",
          "name": "stdout",
          "text": [
            " * sqlite:////content/chinook-database/ChinookDatabase/DataSources/Chinook_Sqlite.sqlite\n",
            "Done.\n"
          ]
        },
        {
          "output_type": "execute_result",
          "data": {
            "text/plain": [
              "[(1, 'Luís', 'Gonçalves', 'Embraer - Empresa Brasileira de Aeronáutica S.A.', 'Av. Brigadeiro Faria Lima, 2170', 'São José dos Campos', 'SP', 'Brazil', '12227-000', '+55 (12) 3923-5555', '+55 (12) 3923-5566', 'luisg@embraer.com.br', 3),\n",
              " (10, 'Eduardo', 'Martins', 'Woodstock Discos', 'Rua Dr. Falcão Filho, 155', 'São Paulo', 'SP', 'Brazil', '01007-010', '+55 (11) 3033-5446', '+55 (11) 3033-4564', 'eduardo@woodstock.com.br', 4),\n",
              " (11, 'Alexandre', 'Rocha', 'Banco do Brasil S.A.', 'Av. Paulista, 2022', 'São Paulo', 'SP', 'Brazil', '01310-200', '+55 (11) 3055-3278', '+55 (11) 3055-8131', 'alero@uol.com.br', 5),\n",
              " (12, 'Roberto', 'Almeida', 'Riotur', 'Praça Pio X, 119', 'Rio de Janeiro', 'RJ', 'Brazil', '20040-020', '+55 (21) 2271-7000', '+55 (21) 2271-7070', 'roberto.almeida@riotur.gov.br', 3),\n",
              " (13, 'Fernanda', 'Ramos', None, 'Qe 7 Bloco G', 'Brasília', 'DF', 'Brazil', '71020-677', '+55 (61) 3363-5547', '+55 (61) 3363-7855', 'fernadaramos4@uol.com.br', 4)]"
            ],
            "text/html": [
              "<table>\n",
              "    <tr>\n",
              "        <th>CustomerId</th>\n",
              "        <th>FirstName</th>\n",
              "        <th>LastName</th>\n",
              "        <th>Company</th>\n",
              "        <th>Address</th>\n",
              "        <th>City</th>\n",
              "        <th>State</th>\n",
              "        <th>Country</th>\n",
              "        <th>PostalCode</th>\n",
              "        <th>Phone</th>\n",
              "        <th>Fax</th>\n",
              "        <th>Email</th>\n",
              "        <th>SupportRepId</th>\n",
              "    </tr>\n",
              "    <tr>\n",
              "        <td>1</td>\n",
              "        <td>Luís</td>\n",
              "        <td>Gonçalves</td>\n",
              "        <td>Embraer - Empresa Brasileira de Aeronáutica S.A.</td>\n",
              "        <td>Av. Brigadeiro Faria Lima, 2170</td>\n",
              "        <td>São José dos Campos</td>\n",
              "        <td>SP</td>\n",
              "        <td>Brazil</td>\n",
              "        <td>12227-000</td>\n",
              "        <td>+55 (12) 3923-5555</td>\n",
              "        <td>+55 (12) 3923-5566</td>\n",
              "        <td>luisg@embraer.com.br</td>\n",
              "        <td>3</td>\n",
              "    </tr>\n",
              "    <tr>\n",
              "        <td>10</td>\n",
              "        <td>Eduardo</td>\n",
              "        <td>Martins</td>\n",
              "        <td>Woodstock Discos</td>\n",
              "        <td>Rua Dr. Falcão Filho, 155</td>\n",
              "        <td>São Paulo</td>\n",
              "        <td>SP</td>\n",
              "        <td>Brazil</td>\n",
              "        <td>01007-010</td>\n",
              "        <td>+55 (11) 3033-5446</td>\n",
              "        <td>+55 (11) 3033-4564</td>\n",
              "        <td>eduardo@woodstock.com.br</td>\n",
              "        <td>4</td>\n",
              "    </tr>\n",
              "    <tr>\n",
              "        <td>11</td>\n",
              "        <td>Alexandre</td>\n",
              "        <td>Rocha</td>\n",
              "        <td>Banco do Brasil S.A.</td>\n",
              "        <td>Av. Paulista, 2022</td>\n",
              "        <td>São Paulo</td>\n",
              "        <td>SP</td>\n",
              "        <td>Brazil</td>\n",
              "        <td>01310-200</td>\n",
              "        <td>+55 (11) 3055-3278</td>\n",
              "        <td>+55 (11) 3055-8131</td>\n",
              "        <td>alero@uol.com.br</td>\n",
              "        <td>5</td>\n",
              "    </tr>\n",
              "    <tr>\n",
              "        <td>12</td>\n",
              "        <td>Roberto</td>\n",
              "        <td>Almeida</td>\n",
              "        <td>Riotur</td>\n",
              "        <td>Praça Pio X, 119</td>\n",
              "        <td>Rio de Janeiro</td>\n",
              "        <td>RJ</td>\n",
              "        <td>Brazil</td>\n",
              "        <td>20040-020</td>\n",
              "        <td>+55 (21) 2271-7000</td>\n",
              "        <td>+55 (21) 2271-7070</td>\n",
              "        <td>roberto.almeida@riotur.gov.br</td>\n",
              "        <td>3</td>\n",
              "    </tr>\n",
              "    <tr>\n",
              "        <td>13</td>\n",
              "        <td>Fernanda</td>\n",
              "        <td>Ramos</td>\n",
              "        <td>None</td>\n",
              "        <td>Qe 7 Bloco G</td>\n",
              "        <td>Brasília</td>\n",
              "        <td>DF</td>\n",
              "        <td>Brazil</td>\n",
              "        <td>71020-677</td>\n",
              "        <td>+55 (61) 3363-5547</td>\n",
              "        <td>+55 (61) 3363-7855</td>\n",
              "        <td>fernadaramos4@uol.com.br</td>\n",
              "        <td>4</td>\n",
              "    </tr>\n",
              "</table>"
            ]
          },
          "metadata": {},
          "execution_count": 7
        }
      ]
    },
    {
      "cell_type": "markdown",
      "source": [
        "1) ..."
      ],
      "metadata": {
        "id": "FjI2rAux6YmV"
      }
    },
    {
      "cell_type": "code",
      "source": [
        "%%sql\n",
        "select a.Name 'Artista', sum(li.UnitPrice) 'Total vendido'\n",
        "from InvoiceLine as li\n",
        "join Track using (TrackId)\n",
        "join Album using (AlbumId)\n",
        "join Artist as a using (ArtistId)\n",
        "group by a.Name\n",
        "order by count(a.ArtistId) Desc\n",
        "limit 10;"
      ],
      "metadata": {
        "id": "V2tqdhTI7DYf",
        "colab": {
          "base_uri": "https://localhost:8080/",
          "height": 289
        },
        "outputId": "2e2933f0-353e-4b33-bb1c-4b1797167164"
      },
      "execution_count": 14,
      "outputs": [
        {
          "output_type": "stream",
          "name": "stdout",
          "text": [
            " * sqlite:////content/chinook-database/ChinookDatabase/DataSources/Chinook_Sqlite.sqlite\n",
            "Done.\n"
          ]
        },
        {
          "output_type": "execute_result",
          "data": {
            "text/plain": [
              "[('Iron Maiden', 138.5999999999998),\n",
              " ('U2', 105.92999999999982),\n",
              " ('Metallica', 90.0899999999999),\n",
              " ('Led Zeppelin', 86.12999999999992),\n",
              " ('Os Paralamas Do Sucesso', 44.550000000000004),\n",
              " ('Deep Purple', 43.56),\n",
              " ('Faith No More', 41.58),\n",
              " ('Lost', 81.58999999999997),\n",
              " ('Eric Clapton', 39.599999999999994),\n",
              " ('R.E.M.', 38.60999999999999)]"
            ],
            "text/html": [
              "<table>\n",
              "    <tr>\n",
              "        <th>Artista</th>\n",
              "        <th>Total vendido</th>\n",
              "    </tr>\n",
              "    <tr>\n",
              "        <td>Iron Maiden</td>\n",
              "        <td>138.5999999999998</td>\n",
              "    </tr>\n",
              "    <tr>\n",
              "        <td>U2</td>\n",
              "        <td>105.92999999999982</td>\n",
              "    </tr>\n",
              "    <tr>\n",
              "        <td>Metallica</td>\n",
              "        <td>90.0899999999999</td>\n",
              "    </tr>\n",
              "    <tr>\n",
              "        <td>Led Zeppelin</td>\n",
              "        <td>86.12999999999992</td>\n",
              "    </tr>\n",
              "    <tr>\n",
              "        <td>Os Paralamas Do Sucesso</td>\n",
              "        <td>44.550000000000004</td>\n",
              "    </tr>\n",
              "    <tr>\n",
              "        <td>Deep Purple</td>\n",
              "        <td>43.56</td>\n",
              "    </tr>\n",
              "    <tr>\n",
              "        <td>Faith No More</td>\n",
              "        <td>41.58</td>\n",
              "    </tr>\n",
              "    <tr>\n",
              "        <td>Lost</td>\n",
              "        <td>81.58999999999997</td>\n",
              "    </tr>\n",
              "    <tr>\n",
              "        <td>Eric Clapton</td>\n",
              "        <td>39.599999999999994</td>\n",
              "    </tr>\n",
              "    <tr>\n",
              "        <td>R.E.M.</td>\n",
              "        <td>38.60999999999999</td>\n",
              "    </tr>\n",
              "</table>"
            ]
          },
          "metadata": {},
          "execution_count": 14
        }
      ]
    },
    {
      "cell_type": "markdown",
      "source": [
        "2) ..."
      ],
      "metadata": {
        "id": "h5vG9ycS7XlI"
      }
    },
    {
      "cell_type": "code",
      "source": [
        "%%sql\n",
        "select g.Name 'Generos', count(t.GenreId) 'Total de canciones'\n",
        "from Track as t \n",
        "join Genre as g using (GenreId)\n",
        "group by g.Name"
      ],
      "metadata": {
        "id": "tzVkwA4K7XlI",
        "colab": {
          "base_uri": "https://localhost:8080/",
          "height": 609
        },
        "outputId": "390048a3-70ae-4fdd-d1c9-b49e8958d8c8"
      },
      "execution_count": 15,
      "outputs": [
        {
          "output_type": "stream",
          "name": "stdout",
          "text": [
            " * sqlite:////content/chinook-database/ChinookDatabase/DataSources/Chinook_Sqlite.sqlite\n",
            "Done.\n"
          ]
        },
        {
          "output_type": "execute_result",
          "data": {
            "text/plain": [
              "[('Alternative', 40),\n",
              " ('Alternative & Punk', 332),\n",
              " ('Blues', 81),\n",
              " ('Bossa Nova', 15),\n",
              " ('Classical', 74),\n",
              " ('Comedy', 17),\n",
              " ('Drama', 64),\n",
              " ('Easy Listening', 24),\n",
              " ('Electronica/Dance', 30),\n",
              " ('Heavy Metal', 28),\n",
              " ('Hip Hop/Rap', 35),\n",
              " ('Jazz', 130),\n",
              " ('Latin', 579),\n",
              " ('Metal', 374),\n",
              " ('Opera', 1),\n",
              " ('Pop', 48),\n",
              " ('R&B/Soul', 61),\n",
              " ('Reggae', 58),\n",
              " ('Rock', 1297),\n",
              " ('Rock And Roll', 12),\n",
              " ('Sci Fi & Fantasy', 26),\n",
              " ('Science Fiction', 13),\n",
              " ('Soundtrack', 43),\n",
              " ('TV Shows', 93),\n",
              " ('World', 28)]"
            ],
            "text/html": [
              "<table>\n",
              "    <tr>\n",
              "        <th>Generos</th>\n",
              "        <th>Total de canciones</th>\n",
              "    </tr>\n",
              "    <tr>\n",
              "        <td>Alternative</td>\n",
              "        <td>40</td>\n",
              "    </tr>\n",
              "    <tr>\n",
              "        <td>Alternative &amp; Punk</td>\n",
              "        <td>332</td>\n",
              "    </tr>\n",
              "    <tr>\n",
              "        <td>Blues</td>\n",
              "        <td>81</td>\n",
              "    </tr>\n",
              "    <tr>\n",
              "        <td>Bossa Nova</td>\n",
              "        <td>15</td>\n",
              "    </tr>\n",
              "    <tr>\n",
              "        <td>Classical</td>\n",
              "        <td>74</td>\n",
              "    </tr>\n",
              "    <tr>\n",
              "        <td>Comedy</td>\n",
              "        <td>17</td>\n",
              "    </tr>\n",
              "    <tr>\n",
              "        <td>Drama</td>\n",
              "        <td>64</td>\n",
              "    </tr>\n",
              "    <tr>\n",
              "        <td>Easy Listening</td>\n",
              "        <td>24</td>\n",
              "    </tr>\n",
              "    <tr>\n",
              "        <td>Electronica/Dance</td>\n",
              "        <td>30</td>\n",
              "    </tr>\n",
              "    <tr>\n",
              "        <td>Heavy Metal</td>\n",
              "        <td>28</td>\n",
              "    </tr>\n",
              "    <tr>\n",
              "        <td>Hip Hop/Rap</td>\n",
              "        <td>35</td>\n",
              "    </tr>\n",
              "    <tr>\n",
              "        <td>Jazz</td>\n",
              "        <td>130</td>\n",
              "    </tr>\n",
              "    <tr>\n",
              "        <td>Latin</td>\n",
              "        <td>579</td>\n",
              "    </tr>\n",
              "    <tr>\n",
              "        <td>Metal</td>\n",
              "        <td>374</td>\n",
              "    </tr>\n",
              "    <tr>\n",
              "        <td>Opera</td>\n",
              "        <td>1</td>\n",
              "    </tr>\n",
              "    <tr>\n",
              "        <td>Pop</td>\n",
              "        <td>48</td>\n",
              "    </tr>\n",
              "    <tr>\n",
              "        <td>R&amp;B/Soul</td>\n",
              "        <td>61</td>\n",
              "    </tr>\n",
              "    <tr>\n",
              "        <td>Reggae</td>\n",
              "        <td>58</td>\n",
              "    </tr>\n",
              "    <tr>\n",
              "        <td>Rock</td>\n",
              "        <td>1297</td>\n",
              "    </tr>\n",
              "    <tr>\n",
              "        <td>Rock And Roll</td>\n",
              "        <td>12</td>\n",
              "    </tr>\n",
              "    <tr>\n",
              "        <td>Sci Fi &amp; Fantasy</td>\n",
              "        <td>26</td>\n",
              "    </tr>\n",
              "    <tr>\n",
              "        <td>Science Fiction</td>\n",
              "        <td>13</td>\n",
              "    </tr>\n",
              "    <tr>\n",
              "        <td>Soundtrack</td>\n",
              "        <td>43</td>\n",
              "    </tr>\n",
              "    <tr>\n",
              "        <td>TV Shows</td>\n",
              "        <td>93</td>\n",
              "    </tr>\n",
              "    <tr>\n",
              "        <td>World</td>\n",
              "        <td>28</td>\n",
              "    </tr>\n",
              "</table>"
            ]
          },
          "metadata": {},
          "execution_count": 15
        }
      ]
    },
    {
      "cell_type": "markdown",
      "source": [
        "3) ..."
      ],
      "metadata": {
        "id": "agplFF0N7ZKt"
      }
    },
    {
      "cell_type": "code",
      "source": [
        "%%sql\n",
        "select c.FirstName || ' ' || c.LastName 'Cliente', sum(i.Total) 'Total gastado'\n",
        "from Invoice as i\n",
        "join Customer as c using (CustomerId)\n",
        "group by CustomerId\n",
        "order by sum(i.Total) desc\n",
        "limit 5;"
      ],
      "metadata": {
        "id": "hCgkKTmK7ZKt",
        "colab": {
          "base_uri": "https://localhost:8080/",
          "height": 182
        },
        "outputId": "070b776f-0cb9-4541-c874-70ba23a01af4"
      },
      "execution_count": 40,
      "outputs": [
        {
          "output_type": "stream",
          "name": "stdout",
          "text": [
            " * sqlite:////content/chinook-database/ChinookDatabase/DataSources/Chinook_Sqlite.sqlite\n",
            "Done.\n"
          ]
        },
        {
          "output_type": "execute_result",
          "data": {
            "text/plain": [
              "[('Helena Holý', 49.620000000000005),\n",
              " ('Richard Cunningham', 47.620000000000005),\n",
              " ('Luis Rojas', 46.62),\n",
              " ('Ladislav Kovács', 45.62),\n",
              " (\"Hugh O'Reilly\", 45.62)]"
            ],
            "text/html": [
              "<table>\n",
              "    <tr>\n",
              "        <th>Cliente</th>\n",
              "        <th>Total gastado</th>\n",
              "    </tr>\n",
              "    <tr>\n",
              "        <td>Helena Holý</td>\n",
              "        <td>49.620000000000005</td>\n",
              "    </tr>\n",
              "    <tr>\n",
              "        <td>Richard Cunningham</td>\n",
              "        <td>47.620000000000005</td>\n",
              "    </tr>\n",
              "    <tr>\n",
              "        <td>Luis Rojas</td>\n",
              "        <td>46.62</td>\n",
              "    </tr>\n",
              "    <tr>\n",
              "        <td>Ladislav Kovács</td>\n",
              "        <td>45.62</td>\n",
              "    </tr>\n",
              "    <tr>\n",
              "        <td>Hugh O&#x27;Reilly</td>\n",
              "        <td>45.62</td>\n",
              "    </tr>\n",
              "</table>"
            ]
          },
          "metadata": {},
          "execution_count": 40
        }
      ]
    },
    {
      "cell_type": "markdown",
      "source": [
        "4) ..."
      ],
      "metadata": {
        "id": "iCbQbjP97aYZ"
      }
    },
    {
      "cell_type": "code",
      "source": [
        "%%sql\n",
        "SELECT City, COUNT(*) 'Numero clientes'\n",
        "FROM customer\n",
        "GROUP BY City\n",
        "ORDER BY COUNT(*) DESC\n",
        "LIMIT 1;\n"
      ],
      "metadata": {
        "id": "QcnmYQfd7aYa",
        "colab": {
          "base_uri": "https://localhost:8080/",
          "height": 96
        },
        "outputId": "36968d8f-11c8-44be-fc40-38edbcef2463"
      },
      "execution_count": 49,
      "outputs": [
        {
          "output_type": "stream",
          "name": "stdout",
          "text": [
            " * sqlite:////content/chinook-database/ChinookDatabase/DataSources/Chinook_Sqlite.sqlite\n",
            "Done.\n"
          ]
        },
        {
          "output_type": "execute_result",
          "data": {
            "text/plain": [
              "[('São Paulo', 2)]"
            ],
            "text/html": [
              "<table>\n",
              "    <tr>\n",
              "        <th>City</th>\n",
              "        <th>Numero clientes</th>\n",
              "    </tr>\n",
              "    <tr>\n",
              "        <td>São Paulo</td>\n",
              "        <td>2</td>\n",
              "    </tr>\n",
              "</table>"
            ]
          },
          "metadata": {},
          "execution_count": 49
        }
      ]
    },
    {
      "cell_type": "markdown",
      "source": [
        "5) ..."
      ],
      "metadata": {
        "id": "j7vxf1VE7bSC"
      }
    },
    {
      "cell_type": "code",
      "source": [
        "%%sql\n",
        "select c.FirstName || ' ' || c.LastName 'Cliente', SUM(li.Quantity) 'Pistas Totales'\n",
        "from InvoiceLine as li\n",
        "join Invoice using (InvoiceId)\n",
        "join Customer as c using (CustomerId)\n",
        "group by c.CustomerID"
      ],
      "metadata": {
        "id": "9PRCpDbV8BCT",
        "colab": {
          "base_uri": "https://localhost:8080/",
          "height": 1000
        },
        "outputId": "46050e9d-ea9c-45f1-daff-98915595ec02"
      },
      "execution_count": 63,
      "outputs": [
        {
          "output_type": "stream",
          "name": "stdout",
          "text": [
            " * sqlite:////content/chinook-database/ChinookDatabase/DataSources/Chinook_Sqlite.sqlite\n",
            "Done.\n"
          ]
        },
        {
          "output_type": "execute_result",
          "data": {
            "text/plain": [
              "[('Luís Gonçalves', 38),\n",
              " ('Leonie Köhler', 38),\n",
              " ('François Tremblay', 38),\n",
              " ('Bjørn Hansen', 38),\n",
              " ('František Wichterlová', 38),\n",
              " ('Helena Holý', 38),\n",
              " ('Astrid Gruber', 38),\n",
              " ('Daan Peeters', 38),\n",
              " ('Kara Nielsen', 38),\n",
              " ('Eduardo Martins', 38),\n",
              " ('Alexandre Rocha', 38),\n",
              " ('Roberto Almeida', 38),\n",
              " ('Fernanda Ramos', 38),\n",
              " ('Mark Philips', 38),\n",
              " ('Jennifer Peterson', 38),\n",
              " ('Frank Harris', 38),\n",
              " ('Jack Smith', 38),\n",
              " ('Michelle Brooks', 38),\n",
              " ('Tim Goyer', 38),\n",
              " ('Dan Miller', 38),\n",
              " ('Kathy Chase', 38),\n",
              " ('Heather Leacock', 38),\n",
              " ('John Gordon', 38),\n",
              " ('Frank Ralston', 38),\n",
              " ('Victor Stevens', 38),\n",
              " ('Richard Cunningham', 38),\n",
              " ('Patrick Gray', 38),\n",
              " ('Julia Barnett', 38),\n",
              " ('Robert Brown', 38),\n",
              " ('Edward Francis', 38),\n",
              " ('Martha Silk', 38),\n",
              " ('Aaron Mitchell', 38),\n",
              " ('Ellie Sullivan', 38),\n",
              " ('João Fernandes', 38),\n",
              " ('Madalena Sampaio', 38),\n",
              " ('Hannah Schneider', 38),\n",
              " ('Fynn Zimmermann', 38),\n",
              " ('Niklas Schröder', 38),\n",
              " ('Camille Bernard', 38),\n",
              " ('Dominique Lefebvre', 38),\n",
              " ('Marc Dubois', 38),\n",
              " ('Wyatt Girard', 38),\n",
              " ('Isabelle Mercier', 38),\n",
              " ('Terhi Hämäläinen', 38),\n",
              " ('Ladislav Kovács', 38),\n",
              " (\"Hugh O'Reilly\", 38),\n",
              " ('Lucas Mancini', 38),\n",
              " ('Johannes Van der Berg', 38),\n",
              " ('Stanisław Wójcik', 38),\n",
              " ('Enrique Muñoz', 38),\n",
              " ('Joakim Johansson', 38),\n",
              " ('Emma Jones', 38),\n",
              " ('Phil Hughes', 38),\n",
              " ('Steve Murray', 38),\n",
              " ('Mark Taylor', 38),\n",
              " ('Diego Gutiérrez', 38),\n",
              " ('Luis Rojas', 38),\n",
              " ('Manoj Pareek', 38),\n",
              " ('Puja Srivastava', 36)]"
            ],
            "text/html": [
              "<table>\n",
              "    <tr>\n",
              "        <th>Cliente</th>\n",
              "        <th>Pistas Totales</th>\n",
              "    </tr>\n",
              "    <tr>\n",
              "        <td>Luís Gonçalves</td>\n",
              "        <td>38</td>\n",
              "    </tr>\n",
              "    <tr>\n",
              "        <td>Leonie Köhler</td>\n",
              "        <td>38</td>\n",
              "    </tr>\n",
              "    <tr>\n",
              "        <td>François Tremblay</td>\n",
              "        <td>38</td>\n",
              "    </tr>\n",
              "    <tr>\n",
              "        <td>Bjørn Hansen</td>\n",
              "        <td>38</td>\n",
              "    </tr>\n",
              "    <tr>\n",
              "        <td>František Wichterlová</td>\n",
              "        <td>38</td>\n",
              "    </tr>\n",
              "    <tr>\n",
              "        <td>Helena Holý</td>\n",
              "        <td>38</td>\n",
              "    </tr>\n",
              "    <tr>\n",
              "        <td>Astrid Gruber</td>\n",
              "        <td>38</td>\n",
              "    </tr>\n",
              "    <tr>\n",
              "        <td>Daan Peeters</td>\n",
              "        <td>38</td>\n",
              "    </tr>\n",
              "    <tr>\n",
              "        <td>Kara Nielsen</td>\n",
              "        <td>38</td>\n",
              "    </tr>\n",
              "    <tr>\n",
              "        <td>Eduardo Martins</td>\n",
              "        <td>38</td>\n",
              "    </tr>\n",
              "    <tr>\n",
              "        <td>Alexandre Rocha</td>\n",
              "        <td>38</td>\n",
              "    </tr>\n",
              "    <tr>\n",
              "        <td>Roberto Almeida</td>\n",
              "        <td>38</td>\n",
              "    </tr>\n",
              "    <tr>\n",
              "        <td>Fernanda Ramos</td>\n",
              "        <td>38</td>\n",
              "    </tr>\n",
              "    <tr>\n",
              "        <td>Mark Philips</td>\n",
              "        <td>38</td>\n",
              "    </tr>\n",
              "    <tr>\n",
              "        <td>Jennifer Peterson</td>\n",
              "        <td>38</td>\n",
              "    </tr>\n",
              "    <tr>\n",
              "        <td>Frank Harris</td>\n",
              "        <td>38</td>\n",
              "    </tr>\n",
              "    <tr>\n",
              "        <td>Jack Smith</td>\n",
              "        <td>38</td>\n",
              "    </tr>\n",
              "    <tr>\n",
              "        <td>Michelle Brooks</td>\n",
              "        <td>38</td>\n",
              "    </tr>\n",
              "    <tr>\n",
              "        <td>Tim Goyer</td>\n",
              "        <td>38</td>\n",
              "    </tr>\n",
              "    <tr>\n",
              "        <td>Dan Miller</td>\n",
              "        <td>38</td>\n",
              "    </tr>\n",
              "    <tr>\n",
              "        <td>Kathy Chase</td>\n",
              "        <td>38</td>\n",
              "    </tr>\n",
              "    <tr>\n",
              "        <td>Heather Leacock</td>\n",
              "        <td>38</td>\n",
              "    </tr>\n",
              "    <tr>\n",
              "        <td>John Gordon</td>\n",
              "        <td>38</td>\n",
              "    </tr>\n",
              "    <tr>\n",
              "        <td>Frank Ralston</td>\n",
              "        <td>38</td>\n",
              "    </tr>\n",
              "    <tr>\n",
              "        <td>Victor Stevens</td>\n",
              "        <td>38</td>\n",
              "    </tr>\n",
              "    <tr>\n",
              "        <td>Richard Cunningham</td>\n",
              "        <td>38</td>\n",
              "    </tr>\n",
              "    <tr>\n",
              "        <td>Patrick Gray</td>\n",
              "        <td>38</td>\n",
              "    </tr>\n",
              "    <tr>\n",
              "        <td>Julia Barnett</td>\n",
              "        <td>38</td>\n",
              "    </tr>\n",
              "    <tr>\n",
              "        <td>Robert Brown</td>\n",
              "        <td>38</td>\n",
              "    </tr>\n",
              "    <tr>\n",
              "        <td>Edward Francis</td>\n",
              "        <td>38</td>\n",
              "    </tr>\n",
              "    <tr>\n",
              "        <td>Martha Silk</td>\n",
              "        <td>38</td>\n",
              "    </tr>\n",
              "    <tr>\n",
              "        <td>Aaron Mitchell</td>\n",
              "        <td>38</td>\n",
              "    </tr>\n",
              "    <tr>\n",
              "        <td>Ellie Sullivan</td>\n",
              "        <td>38</td>\n",
              "    </tr>\n",
              "    <tr>\n",
              "        <td>João Fernandes</td>\n",
              "        <td>38</td>\n",
              "    </tr>\n",
              "    <tr>\n",
              "        <td>Madalena Sampaio</td>\n",
              "        <td>38</td>\n",
              "    </tr>\n",
              "    <tr>\n",
              "        <td>Hannah Schneider</td>\n",
              "        <td>38</td>\n",
              "    </tr>\n",
              "    <tr>\n",
              "        <td>Fynn Zimmermann</td>\n",
              "        <td>38</td>\n",
              "    </tr>\n",
              "    <tr>\n",
              "        <td>Niklas Schröder</td>\n",
              "        <td>38</td>\n",
              "    </tr>\n",
              "    <tr>\n",
              "        <td>Camille Bernard</td>\n",
              "        <td>38</td>\n",
              "    </tr>\n",
              "    <tr>\n",
              "        <td>Dominique Lefebvre</td>\n",
              "        <td>38</td>\n",
              "    </tr>\n",
              "    <tr>\n",
              "        <td>Marc Dubois</td>\n",
              "        <td>38</td>\n",
              "    </tr>\n",
              "    <tr>\n",
              "        <td>Wyatt Girard</td>\n",
              "        <td>38</td>\n",
              "    </tr>\n",
              "    <tr>\n",
              "        <td>Isabelle Mercier</td>\n",
              "        <td>38</td>\n",
              "    </tr>\n",
              "    <tr>\n",
              "        <td>Terhi Hämäläinen</td>\n",
              "        <td>38</td>\n",
              "    </tr>\n",
              "    <tr>\n",
              "        <td>Ladislav Kovács</td>\n",
              "        <td>38</td>\n",
              "    </tr>\n",
              "    <tr>\n",
              "        <td>Hugh O&#x27;Reilly</td>\n",
              "        <td>38</td>\n",
              "    </tr>\n",
              "    <tr>\n",
              "        <td>Lucas Mancini</td>\n",
              "        <td>38</td>\n",
              "    </tr>\n",
              "    <tr>\n",
              "        <td>Johannes Van der Berg</td>\n",
              "        <td>38</td>\n",
              "    </tr>\n",
              "    <tr>\n",
              "        <td>Stanisław Wójcik</td>\n",
              "        <td>38</td>\n",
              "    </tr>\n",
              "    <tr>\n",
              "        <td>Enrique Muñoz</td>\n",
              "        <td>38</td>\n",
              "    </tr>\n",
              "    <tr>\n",
              "        <td>Joakim Johansson</td>\n",
              "        <td>38</td>\n",
              "    </tr>\n",
              "    <tr>\n",
              "        <td>Emma Jones</td>\n",
              "        <td>38</td>\n",
              "    </tr>\n",
              "    <tr>\n",
              "        <td>Phil Hughes</td>\n",
              "        <td>38</td>\n",
              "    </tr>\n",
              "    <tr>\n",
              "        <td>Steve Murray</td>\n",
              "        <td>38</td>\n",
              "    </tr>\n",
              "    <tr>\n",
              "        <td>Mark Taylor</td>\n",
              "        <td>38</td>\n",
              "    </tr>\n",
              "    <tr>\n",
              "        <td>Diego Gutiérrez</td>\n",
              "        <td>38</td>\n",
              "    </tr>\n",
              "    <tr>\n",
              "        <td>Luis Rojas</td>\n",
              "        <td>38</td>\n",
              "    </tr>\n",
              "    <tr>\n",
              "        <td>Manoj Pareek</td>\n",
              "        <td>38</td>\n",
              "    </tr>\n",
              "    <tr>\n",
              "        <td>Puja Srivastava</td>\n",
              "        <td>36</td>\n",
              "    </tr>\n",
              "</table>"
            ]
          },
          "metadata": {},
          "execution_count": 63
        }
      ]
    },
    {
      "cell_type": "markdown",
      "source": [
        "6) ..."
      ],
      "metadata": {
        "id": "zZro9Dob7b89"
      }
    },
    {
      "cell_type": "code",
      "source": [
        "%%sql\n",
        "select p.Name, SUM(t.Milliseconds) / 1000 AS Tiempo\n",
        "from Playlist as p\n",
        "join PlaylistTrack as pt using (PlaylistId)\n",
        "join Track as t using (TrackId)\n",
        "GROUP BY p.Name\n",
        "ORDER BY Tiempo DESC\n",
        "LIMIT 1;\n"
      ],
      "metadata": {
        "id": "bEEldpUY7b8-",
        "colab": {
          "base_uri": "https://localhost:8080/",
          "height": 96
        },
        "outputId": "ccb7c583-bb97-4c1a-f818-1b593936d889"
      },
      "execution_count": 93,
      "outputs": [
        {
          "output_type": "stream",
          "name": "stdout",
          "text": [
            " * sqlite:////content/chinook-database/ChinookDatabase/DataSources/Chinook_Sqlite.sqlite\n",
            "Done.\n"
          ]
        },
        {
          "output_type": "execute_result",
          "data": {
            "text/plain": [
              "[('Music', 1755366)]"
            ],
            "text/html": [
              "<table>\n",
              "    <tr>\n",
              "        <th>Name</th>\n",
              "        <th>Tiempo</th>\n",
              "    </tr>\n",
              "    <tr>\n",
              "        <td>Music</td>\n",
              "        <td>1755366</td>\n",
              "    </tr>\n",
              "</table>"
            ]
          },
          "metadata": {},
          "execution_count": 93
        }
      ]
    },
    {
      "cell_type": "markdown",
      "source": [
        "7) ..."
      ],
      "metadata": {
        "id": "og2K92SN7clc"
      }
    },
    {
      "cell_type": "code",
      "source": [
        "%%sql\n",
        "select a.Name 'Artista', count(t.TrackId) 'Numero canciones'\n",
        "from Artist as a\n",
        "join Album using (ArtistId)\n",
        "join Track as t using (AlbumId)\n",
        "GROUP BY a.ArtistId\n",
        "ORDER BY COUNT(t.TrackId) DESC\n",
        "LIMIT 1;\n"
      ],
      "metadata": {
        "id": "6i1RSsbv7clc",
        "colab": {
          "base_uri": "https://localhost:8080/",
          "height": 96
        },
        "outputId": "adaf18fd-d67c-42b7-c97e-44ec06ec34a8"
      },
      "execution_count": 98,
      "outputs": [
        {
          "output_type": "stream",
          "name": "stdout",
          "text": [
            " * sqlite:////content/chinook-database/ChinookDatabase/DataSources/Chinook_Sqlite.sqlite\n",
            "Done.\n"
          ]
        },
        {
          "output_type": "execute_result",
          "data": {
            "text/plain": [
              "[('Iron Maiden', 213)]"
            ],
            "text/html": [
              "<table>\n",
              "    <tr>\n",
              "        <th>Artista</th>\n",
              "        <th>Numero canciones</th>\n",
              "    </tr>\n",
              "    <tr>\n",
              "        <td>Iron Maiden</td>\n",
              "        <td>213</td>\n",
              "    </tr>\n",
              "</table>"
            ]
          },
          "metadata": {},
          "execution_count": 98
        }
      ]
    },
    {
      "cell_type": "markdown",
      "source": [
        "8) ..."
      ],
      "metadata": {
        "id": "ORcbBJ4M7dI3"
      }
    },
    {
      "cell_type": "code",
      "source": [
        "%%sql\n",
        "select a.Name 'Artista', COUNT(distinct al.AlbumId) as Numero_Albunes\n",
        "from Artist as a\n",
        "join Album as al using(ArtistId)\n",
        "group by a.ArtistId\n",
        "order by Numero_Albunes desc\n",
        "limit 10;"
      ],
      "metadata": {
        "id": "kSaGWKDy7dI4",
        "colab": {
          "base_uri": "https://localhost:8080/",
          "height": 289
        },
        "outputId": "0b1c5018-c4a9-4744-ce8a-f3c7a93950dd"
      },
      "execution_count": 107,
      "outputs": [
        {
          "output_type": "stream",
          "name": "stdout",
          "text": [
            " * sqlite:////content/chinook-database/ChinookDatabase/DataSources/Chinook_Sqlite.sqlite\n",
            "Done.\n"
          ]
        },
        {
          "output_type": "execute_result",
          "data": {
            "text/plain": [
              "[('Iron Maiden', 21),\n",
              " ('Led Zeppelin', 14),\n",
              " ('Deep Purple', 11),\n",
              " ('Metallica', 10),\n",
              " ('U2', 10),\n",
              " ('Ozzy Osbourne', 6),\n",
              " ('Pearl Jam', 5),\n",
              " ('Various Artists', 4),\n",
              " ('Faith No More', 4),\n",
              " ('Foo Fighters', 4)]"
            ],
            "text/html": [
              "<table>\n",
              "    <tr>\n",
              "        <th>Artista</th>\n",
              "        <th>Numero_Albunes</th>\n",
              "    </tr>\n",
              "    <tr>\n",
              "        <td>Iron Maiden</td>\n",
              "        <td>21</td>\n",
              "    </tr>\n",
              "    <tr>\n",
              "        <td>Led Zeppelin</td>\n",
              "        <td>14</td>\n",
              "    </tr>\n",
              "    <tr>\n",
              "        <td>Deep Purple</td>\n",
              "        <td>11</td>\n",
              "    </tr>\n",
              "    <tr>\n",
              "        <td>Metallica</td>\n",
              "        <td>10</td>\n",
              "    </tr>\n",
              "    <tr>\n",
              "        <td>U2</td>\n",
              "        <td>10</td>\n",
              "    </tr>\n",
              "    <tr>\n",
              "        <td>Ozzy Osbourne</td>\n",
              "        <td>6</td>\n",
              "    </tr>\n",
              "    <tr>\n",
              "        <td>Pearl Jam</td>\n",
              "        <td>5</td>\n",
              "    </tr>\n",
              "    <tr>\n",
              "        <td>Various Artists</td>\n",
              "        <td>4</td>\n",
              "    </tr>\n",
              "    <tr>\n",
              "        <td>Faith No More</td>\n",
              "        <td>4</td>\n",
              "    </tr>\n",
              "    <tr>\n",
              "        <td>Foo Fighters</td>\n",
              "        <td>4</td>\n",
              "    </tr>\n",
              "</table>"
            ]
          },
          "metadata": {},
          "execution_count": 107
        }
      ]
    },
    {
      "cell_type": "markdown",
      "source": [
        "9) ..."
      ],
      "metadata": {
        "id": "nrACAaIw7dvp"
      }
    },
    {
      "cell_type": "code",
      "source": [
        "%%sql\n",
        "select g.Name 'Genero', SUM(il.Quantity) as VentasTotales\n",
        "from Invoice as i\n",
        "join InvoiceLine as il using (InvoiceId)\n",
        "join Track as t using (TrackId)\n",
        "join Genre as g using (GenreId)\n",
        "group by g.GenreId\n",
        "order by VentasTotales desc\n",
        "limit 5;\n"
      ],
      "metadata": {
        "id": "5pHSeHnM7dvq",
        "colab": {
          "base_uri": "https://localhost:8080/",
          "height": 182
        },
        "outputId": "34d16dd3-17c5-4d34-ddfc-c87ac1796f47"
      },
      "execution_count": 117,
      "outputs": [
        {
          "output_type": "stream",
          "name": "stdout",
          "text": [
            " * sqlite:////content/chinook-database/ChinookDatabase/DataSources/Chinook_Sqlite.sqlite\n",
            "Done.\n"
          ]
        },
        {
          "output_type": "execute_result",
          "data": {
            "text/plain": [
              "[('Rock', 835),\n",
              " ('Latin', 386),\n",
              " ('Metal', 264),\n",
              " ('Alternative & Punk', 244),\n",
              " ('Jazz', 80)]"
            ],
            "text/html": [
              "<table>\n",
              "    <tr>\n",
              "        <th>Genero</th>\n",
              "        <th>VentasTotales</th>\n",
              "    </tr>\n",
              "    <tr>\n",
              "        <td>Rock</td>\n",
              "        <td>835</td>\n",
              "    </tr>\n",
              "    <tr>\n",
              "        <td>Latin</td>\n",
              "        <td>386</td>\n",
              "    </tr>\n",
              "    <tr>\n",
              "        <td>Metal</td>\n",
              "        <td>264</td>\n",
              "    </tr>\n",
              "    <tr>\n",
              "        <td>Alternative &amp; Punk</td>\n",
              "        <td>244</td>\n",
              "    </tr>\n",
              "    <tr>\n",
              "        <td>Jazz</td>\n",
              "        <td>80</td>\n",
              "    </tr>\n",
              "</table>"
            ]
          },
          "metadata": {},
          "execution_count": 117
        }
      ]
    },
    {
      "cell_type": "markdown",
      "source": [
        "10) ..."
      ],
      "metadata": {
        "id": "cth2JIb57eTD"
      }
    },
    {
      "cell_type": "code",
      "source": [
        "%%sql\n",
        "select c.City, SUM(il.Quantity) as VentasTotales\n",
        "from Invoice as i\n",
        "join InvoiceLine as il using (InvoiceId)\n",
        "join Customer as c using (CustomerId)\n",
        "group by c.City\n",
        "order by VentasTotales desc\n",
        "limit 1;\n"
      ],
      "metadata": {
        "id": "3lMZYSWL7eTD",
        "colab": {
          "base_uri": "https://localhost:8080/",
          "height": 96
        },
        "outputId": "07258a54-bb41-4f68-cc47-a2664d078f07"
      },
      "execution_count": 119,
      "outputs": [
        {
          "output_type": "stream",
          "name": "stdout",
          "text": [
            " * sqlite:////content/chinook-database/ChinookDatabase/DataSources/Chinook_Sqlite.sqlite\n",
            "Done.\n"
          ]
        },
        {
          "output_type": "execute_result",
          "data": {
            "text/plain": [
              "[('São Paulo', 76)]"
            ],
            "text/html": [
              "<table>\n",
              "    <tr>\n",
              "        <th>City</th>\n",
              "        <th>VentasTotales</th>\n",
              "    </tr>\n",
              "    <tr>\n",
              "        <td>São Paulo</td>\n",
              "        <td>76</td>\n",
              "    </tr>\n",
              "</table>"
            ]
          },
          "metadata": {},
          "execution_count": 119
        }
      ]
    },
    {
      "cell_type": "markdown",
      "source": [
        "11) ..."
      ],
      "metadata": {
        "id": "BXsTZIsn7e2i"
      }
    },
    {
      "cell_type": "code",
      "source": [
        "%%sql\n",
        "select p.Name 'Playlist', COUNT(pt.TrackId) as PistasTotales\n",
        "from Playlist as p\n",
        "join PlaylistTrack as pt using (PlaylistId)\n",
        "group by p.PlaylistId\n",
        "order by PistasTotales desc\n",
        "limit 1;\n"
      ],
      "metadata": {
        "id": "RlCYBKr07e2i",
        "colab": {
          "base_uri": "https://localhost:8080/",
          "height": 96
        },
        "outputId": "d49d34a1-f8e1-4772-a568-ea7d8581bf80"
      },
      "execution_count": 123,
      "outputs": [
        {
          "output_type": "stream",
          "name": "stdout",
          "text": [
            " * sqlite:////content/chinook-database/ChinookDatabase/DataSources/Chinook_Sqlite.sqlite\n",
            "Done.\n"
          ]
        },
        {
          "output_type": "execute_result",
          "data": {
            "text/plain": [
              "[('Music', 3290)]"
            ],
            "text/html": [
              "<table>\n",
              "    <tr>\n",
              "        <th>Playlist</th>\n",
              "        <th>PistasTotales</th>\n",
              "    </tr>\n",
              "    <tr>\n",
              "        <td>Music</td>\n",
              "        <td>3290</td>\n",
              "    </tr>\n",
              "</table>"
            ]
          },
          "metadata": {},
          "execution_count": 123
        }
      ]
    },
    {
      "cell_type": "markdown",
      "source": [
        "12) ..."
      ],
      "metadata": {
        "id": "2zevdpYh7fZk"
      }
    },
    {
      "cell_type": "code",
      "source": [
        "%%sql\n",
        "-- Álbum con la mayor duración total de canciones\n",
        "select a.Title 'Album', SUM(t.Milliseconds)/1000 as DuracionTotal\n",
        "from Album as a\n",
        "join Track as t using (AlbumId)\n",
        "group by a.AlbumId\n",
        "order by DuracionTotal desc\n",
        "limit 1;\n",
        "\n",
        "-- Álbum con la menor duración total de canciones\n",
        "select a.Title 'Album', SUM(t.Milliseconds)/1000 as DuracionTotal\n",
        "from Album as a\n",
        "join Track as t using (AlbumId)\n",
        "group by a.AlbumId\n",
        "order by DuracionTotal asc\n",
        "limit 1;"
      ],
      "metadata": {
        "id": "_lKjA_vQ7fZl",
        "colab": {
          "base_uri": "https://localhost:8080/",
          "height": 114
        },
        "outputId": "66bb7ab6-dead-4429-cdf4-e067ad65faed"
      },
      "execution_count": 129,
      "outputs": [
        {
          "output_type": "stream",
          "name": "stdout",
          "text": [
            " * sqlite:////content/chinook-database/ChinookDatabase/DataSources/Chinook_Sqlite.sqlite\n",
            "Done.\n",
            "Done.\n"
          ]
        },
        {
          "output_type": "execute_result",
          "data": {
            "text/plain": [
              "[(\"Liszt - 12 Études D'Execution Transcendante\", 51)]"
            ],
            "text/html": [
              "<table>\n",
              "    <tr>\n",
              "        <th>Album</th>\n",
              "        <th>DuracionTotal</th>\n",
              "    </tr>\n",
              "    <tr>\n",
              "        <td>Liszt - 12 Études D&#x27;Execution Transcendante</td>\n",
              "        <td>51</td>\n",
              "    </tr>\n",
              "</table>"
            ]
          },
          "metadata": {},
          "execution_count": 129
        }
      ]
    },
    {
      "cell_type": "markdown",
      "source": [
        "13) ..."
      ],
      "metadata": {
        "id": "blya_rwj7gLo"
      }
    },
    {
      "cell_type": "code",
      "source": [
        "%%sql\n",
        "select ..."
      ],
      "metadata": {
        "id": "6V3eo9uE7gLp"
      },
      "execution_count": null,
      "outputs": []
    },
    {
      "cell_type": "markdown",
      "source": [
        "14) ..."
      ],
      "metadata": {
        "id": "WPUtmA__7g1K"
      }
    },
    {
      "cell_type": "code",
      "source": [
        "%%sql\n",
        "select ..."
      ],
      "metadata": {
        "id": "zWqsD5Fi7g1L"
      },
      "execution_count": null,
      "outputs": []
    },
    {
      "cell_type": "markdown",
      "source": [
        "15) ..."
      ],
      "metadata": {
        "id": "uuxkxV2w7hYt"
      }
    },
    {
      "cell_type": "code",
      "source": [
        "%%sql\n",
        "select ..."
      ],
      "metadata": {
        "id": "_rp21Bok7hYu"
      },
      "execution_count": null,
      "outputs": []
    },
    {
      "cell_type": "markdown",
      "source": [
        "16) ..."
      ],
      "metadata": {
        "id": "jMmbn83K7h9M"
      }
    },
    {
      "cell_type": "code",
      "source": [
        "%%sql\n",
        "select ..."
      ],
      "metadata": {
        "id": "ZcugB-k27h9M"
      },
      "execution_count": null,
      "outputs": []
    },
    {
      "cell_type": "markdown",
      "source": [
        "17) ..."
      ],
      "metadata": {
        "id": "pXStb_eL7ig_"
      }
    },
    {
      "cell_type": "code",
      "source": [
        "%%sql\n",
        "select ..."
      ],
      "metadata": {
        "id": "4i9wVTvz7ihA"
      },
      "execution_count": null,
      "outputs": []
    },
    {
      "cell_type": "markdown",
      "source": [
        "18) ..."
      ],
      "metadata": {
        "id": "3WNhZXP67jC0"
      }
    },
    {
      "cell_type": "code",
      "source": [
        "%%sql\n",
        "select ..."
      ],
      "metadata": {
        "id": "R27zJZuZ7jC1"
      },
      "execution_count": null,
      "outputs": []
    },
    {
      "cell_type": "markdown",
      "source": [
        "19) ..."
      ],
      "metadata": {
        "id": "Yqsnp4HD7kHX"
      }
    },
    {
      "cell_type": "code",
      "source": [
        "%%sql\n",
        "select ..."
      ],
      "metadata": {
        "id": "rvSJnClX7kHX"
      },
      "execution_count": null,
      "outputs": []
    },
    {
      "cell_type": "markdown",
      "source": [
        "20) ..."
      ],
      "metadata": {
        "id": "C95uLbxt7kov"
      }
    },
    {
      "cell_type": "code",
      "source": [
        "%%sql\n",
        "select ..."
      ],
      "metadata": {
        "id": "c3S4Z-yI7kow"
      },
      "execution_count": null,
      "outputs": []
    },
    {
      "cell_type": "markdown",
      "source": [
        "21) ..."
      ],
      "metadata": {
        "id": "p4_pNx9a7lJ8"
      }
    },
    {
      "cell_type": "code",
      "source": [
        "%%sql\n",
        "select ..."
      ],
      "metadata": {
        "id": "NXO3N8UD7lJ9"
      },
      "execution_count": null,
      "outputs": []
    },
    {
      "cell_type": "markdown",
      "source": [
        "22) ..."
      ],
      "metadata": {
        "id": "95skHeFW7lqD"
      }
    },
    {
      "cell_type": "code",
      "source": [
        "%%sql\n",
        "select ..."
      ],
      "metadata": {
        "id": "zjzKXHrH7lqE"
      },
      "execution_count": null,
      "outputs": []
    },
    {
      "cell_type": "markdown",
      "source": [
        "23) ..."
      ],
      "metadata": {
        "id": "pTWwWrDN7mJ7"
      }
    },
    {
      "cell_type": "code",
      "source": [
        "%%sql\n",
        "select ..."
      ],
      "metadata": {
        "id": "ooNl5h2a7mJ8"
      },
      "execution_count": null,
      "outputs": []
    },
    {
      "cell_type": "markdown",
      "source": [
        "24) ..."
      ],
      "metadata": {
        "id": "-Lc45vdZ7mpx"
      }
    },
    {
      "cell_type": "code",
      "source": [
        "%%sql\n",
        "select ..."
      ],
      "metadata": {
        "id": "_49QXazl7mpy"
      },
      "execution_count": null,
      "outputs": []
    },
    {
      "cell_type": "markdown",
      "source": [
        "25) ..."
      ],
      "metadata": {
        "id": "BrTxrwo-7nLU"
      }
    },
    {
      "cell_type": "code",
      "source": [
        "%%sql\n",
        "select ..."
      ],
      "metadata": {
        "id": "-jy7XY-K7nLV"
      },
      "execution_count": null,
      "outputs": []
    },
    {
      "cell_type": "markdown",
      "source": [
        "26) ..."
      ],
      "metadata": {
        "id": "Lvo_5dmr7nrb"
      }
    },
    {
      "cell_type": "code",
      "source": [
        "%%sql\n",
        "select ..."
      ],
      "metadata": {
        "id": "vaoUU2Z67nrc"
      },
      "execution_count": null,
      "outputs": []
    },
    {
      "cell_type": "markdown",
      "source": [
        "27) ..."
      ],
      "metadata": {
        "id": "uvstdeoa7oLQ"
      }
    },
    {
      "cell_type": "code",
      "source": [
        "%%sql\n",
        "select ..."
      ],
      "metadata": {
        "id": "zi2HSxj27oLQ"
      },
      "execution_count": null,
      "outputs": []
    },
    {
      "cell_type": "markdown",
      "source": [
        "28) ..."
      ],
      "metadata": {
        "id": "-3HlfveJ7ovP"
      }
    },
    {
      "cell_type": "code",
      "source": [
        "%%sql\n",
        "select ..."
      ],
      "metadata": {
        "id": "mZgWgzfv7ovQ"
      },
      "execution_count": null,
      "outputs": []
    },
    {
      "cell_type": "markdown",
      "source": [
        "29) ..."
      ],
      "metadata": {
        "id": "ox-PVh3a9Fg9"
      }
    },
    {
      "cell_type": "code",
      "source": [
        "%%sql\n",
        "select ..."
      ],
      "metadata": {
        "id": "9GVKSaiB9Fg-"
      },
      "execution_count": null,
      "outputs": []
    },
    {
      "cell_type": "markdown",
      "source": [
        "30) ..."
      ],
      "metadata": {
        "id": "4ktUdjrt9GeJ"
      }
    },
    {
      "cell_type": "code",
      "source": [
        "%%sql\n",
        "select ..."
      ],
      "metadata": {
        "id": "sIF18pDc9GeK"
      },
      "execution_count": null,
      "outputs": []
    }
  ]
}